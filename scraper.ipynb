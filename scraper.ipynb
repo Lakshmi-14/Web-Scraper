{
  "nbformat": 4,
  "nbformat_minor": 0,
  "metadata": {
    "colab": {
      "name": "scraper.ipynb",
      "provenance": [],
      "collapsed_sections": [],
      "toc_visible": true,
      "mount_file_id": "1AngWmP7vA6T4Ap2sNxzW7mG3EJsQE7TM",
      "authorship_tag": "ABX9TyPEFjA3l6uwU8TGBEvaqX8p",
      "include_colab_link": true
    },
    "kernelspec": {
      "name": "python3",
      "display_name": "Python 3"
    }
  },
  "cells": [
    {
      "cell_type": "markdown",
      "metadata": {
        "id": "view-in-github",
        "colab_type": "text"
      },
      "source": [
        "<a href=\"https://colab.research.google.com/github/nampallylakshmiprasad/Web-Scraper/blob/rebuild/scraper.ipynb\" target=\"_parent\"><img src=\"https://colab.research.google.com/assets/colab-badge.svg\" alt=\"Open In Colab\"/></a>"
      ]
    },
    {
      "cell_type": "code",
      "metadata": {
        "id": "6OzlZGASlbFQ",
        "colab_type": "code",
        "colab": {}
      },
      "source": [
        "!pip install selenium\n",
        "#!apt-get update # to update ubuntu to correctly run apt install\n",
        "!apt install chromium-chromedriver\n",
        "!cp /usr/lib/chromium-browser/chromedriver /usr/bin"
      ],
      "execution_count": null,
      "outputs": []
    },
    {
      "cell_type": "code",
      "metadata": {
        "id": "Ms5RkkWnle88",
        "colab_type": "code",
        "colab": {}
      },
      "source": [
        "import sys\n",
        "sys.path.insert(0,'/usr/lib/chromium-browser/chromedriver')\n",
        "from selenium import webdriver\n",
        "import pandas as pd\n",
        "from time import sleep"
      ],
      "execution_count": null,
      "outputs": []
    },
    {
      "cell_type": "code",
      "metadata": {
        "id": "4wI4LojDlhtd",
        "colab_type": "code",
        "colab": {}
      },
      "source": [
        "chrome_options = webdriver.ChromeOptions()\n",
        "chrome_options.add_argument('--headless')\n",
        "chrome_options.add_argument('--no-sandbox')\n",
        "chrome_options.add_argument('--disable-dev-shm-usage')\n",
        "driver = webdriver.Chrome('chromedriver',chrome_options=chrome_options)"
      ],
      "execution_count": null,
      "outputs": []
    },
    {
      "cell_type": "code",
      "metadata": {
        "id": "hABEnKbd9JRN",
        "colab_type": "code",
        "colab": {}
      },
      "source": [
        "data = driver.find_element_by_xpath\n",
        "\n",
        "x = '//*[@id=\"divProfile_BioData\"]/table/tbody/'"
      ],
      "execution_count": null,
      "outputs": []
    },
    {
      "cell_type": "code",
      "metadata": {
        "id": "CXwPVYCs7Eau",
        "colab_type": "code",
        "colab": {}
      },
      "source": [
        "personal = {\n",
        "    'admission' : 'tr[2]/td[3]',\n",
        "    'rollNo' : 'tr[3]/td[3]',\n",
        "    'name' : 'tr[4]/td[3]',\n",
        "    'course' : 'tr[5]/td[3]',\n",
        "    'branch' : 'tr[5]/td[3]',\n",
        "    'gender' : 'tr[7]/td[3]',\n",
        "    'semester' : 'tr[6]/td[6]',\t\t\t\t\t\t\t\t\n",
        "    'dateOfBirth' : 'tr[7]/td[6]',\n",
        "    'nationality' : 'tr[8]/td[3]',\n",
        "    'religion' : 'tr[8]/td[6]',\n",
        "    'entrance_type' : 'tr[9]/td[3]',\n",
        "    'eamcet_rank' : 'tr[9]/td[6]',\n",
        "    'seatType' : 'tr[10]/td[3]',\n",
        "    'category' : 'tr[10]/td[6]',\n",
        "    'lastStudied' : 'tr[11]/td[3]',\n",
        "    'joiningDate' : 'tr[11]/td[6]',\n",
        "    'phoneNo' : 'tr[12]/td[3]',\n",
        "    'mobileNo' : 'tr[12]/td[6]',\n",
        "    'email' : 'tr[13]/td[3]',\n",
        "    'bankAcc' : 'tr[14]/td[3]',\n",
        "    'aadhar' : 'tr[14]/td[6]',\n",
        "    'rationCard' : 'tr[15]/td[3]',\n",
        "    'scholarship' : 'tr[15]/td[6]'\n",
        "}\n",
        "education = {\n",
        "    'sscBoard' : 'tr[2]/td[2]',\n",
        "    'sscHT' : 'tr[2]/td[3]',\n",
        "    'sscYOP' : 'tr[2]/td[4]',\n",
        "    'sscInst' : 'tr[2]/td[5]',\n",
        "    'sscMax' : 'tr[2]/td[6]',\n",
        "    'sscObt' : 'tr[2]/td[7]',\n",
        "    'sscGL' : 'tr[2]/td[8]',\n",
        "    'sscGP' : 'tr[2]/td[9]',\n",
        "    'interBoard' : 'tr[3]/td[2]',\n",
        "    'interHT' : 'tr[3]/td[3]',\n",
        "    'interYOP' : 'tr[3]/td[4]',\n",
        "    'interInst' : 'tr[3]/td[5]',\n",
        "    'interMax' : 'tr[3]/td[6]',\n",
        "    'interObt' : 'tr[3]/td[7]',\n",
        "    'interGL' : 'tr[3]/td[8]',\n",
        "    'interGP' : 'tr[3]/td[9]',\n",
        "}\n",
        "guardian = {\n",
        "    'guardName' : ['tr[26]/td[3]','tr[27]/td[3]'],\n",
        "    'guardAddress' : ['tr[26]/td[6]','tr[27]/td[6]'],\n",
        "    'guardPhone' : ['tr[28]/td[3]','tr[29]/td[3]'],\n",
        "    'guardMobile' : ['tr[28]/td[6]','tr[29]/td[6]']\n",
        "}\n",
        "parent = {\n",
        "    'fatherName' : ['tr[19]/td[3]','tr[20]/td[3]'],\n",
        "    'fatherOcc' : ['tr[19]/td[6]','tr[20]/td[6]'],\n",
        "    'motherName' : ['tr[20]/td[3]','tr[21]/td[3]'],\n",
        "    'motherOcc' : ['tr[20]/td[6]','tr[21]/td[6]'],\n",
        "    'fatherPhone' : ['tr[21]/td[6]','tr[22]/td[6]'],\n",
        "    'motherPhone' : ['tr[22]/td[3]','tr[23]/td[3]'],\n",
        "    'Inc' : ['tr[22]/td[6]','tr[23]/td[6]'],\n",
        "    'fatherMailId' : ['tr[23]/td[3]','tr[24]/td[3]'],\n",
        "    'motherMailId' : ['tr[23]/td[6]','tr[24]/td[6]'],\n",
        "    'corres_address' : ['tr[24]/td[3]','tr[25]/td[3]'],\n",
        "    'per_address' : ['tr[24]/td[6]','tr[25]/td[6]']\n",
        "}\n",
        "other = {\n",
        "    'placeOB' : ['tr[30]/td[3]','tr[31]/td[3]'],\n",
        "    'typeOfPlace' : ['tr[30]/td[6]','tr[31]/td[6]'],\n",
        "    'sayingAt' : ['tr[31]/td[3]','tr[32]/td[3]'],\n",
        "    'stayingAddress' : ['tr[31]/td[6]','tr[32]/td[6]'],\n",
        "    'h_w_BMI' : ['tr[32]/td[3]','tr[33]/td[3]'],\n",
        "    'healthRecord' : ['tr[33]/td[3]','tr[34]/td[3]'],\n",
        "    'hobbies' : ['tr[34]/td[3]','tr[35]/td[3]'],\n",
        "    'sports' : ['tr[35]/td[3]','tr[36]/td[3]']    \n",
        "}"
      ],
      "execution_count": null,
      "outputs": []
    },
    {
      "cell_type": "code",
      "metadata": {
        "id": "f8MKORtvmqPA",
        "colab_type": "code",
        "colab": {}
      },
      "source": [
        "# LOGIN\n",
        "\n",
        "def login_page(userid, passcode):\n",
        "\n",
        "    url = \"http://www.webprosindia.com/Gokaraju/Default.aspx\"\n",
        "\n",
        "    driver.get(url)\n",
        "  \n",
        "    txtId2 = driver.find_element_by_xpath(\"//*[@id='txtId2']\")\n",
        "    txtPwd = driver.find_element_by_name(\"txtPwd2\")\n",
        "\n",
        "    txtId2.send_keys(userid)\n",
        "    txtPwd.send_keys(passcode)\n",
        "\n",
        "    driver.find_element_by_xpath(\"//*[@id='imgBtn2']\").click()\n"
      ],
      "execution_count": null,
      "outputs": []
    },
    {
      "cell_type": "code",
      "metadata": {
        "id": "qZnpQb8eKGNX",
        "colab_type": "code",
        "colab": {}
      },
      "source": [
        "def details_page():\n",
        "\n",
        "    url1 = \"http://www.webprosindia.com/Gokaraju/Academics/StudentProfile.aspx?scrid=17\"\n",
        "    driver.get(url1)\n",
        "    sleep(4)\n",
        "\n",
        "    print(\"Login successful...Entered into details page... ;)\")\n",
        "\n",
        "    driver.find_element_by_xpath('//*[@id=\"divProfile\"]/div[2]/input').click()"
      ],
      "execution_count": null,
      "outputs": []
    },
    {
      "cell_type": "code",
      "metadata": {
        "id": "bl2SbE8AoKF-",
        "colab_type": "code",
        "colab": {}
      },
      "source": [
        "def busChecker():\n",
        "    try:\n",
        "        data('//*[@id=\"divProfile_BioData\"]/table/tbody/tr[16]/td[3]').text\n",
        "        bus = 1\n",
        "    except:\n",
        "        bus = 0\n",
        "    print('College bus ? :',bus)\n",
        "    return bus"
      ],
      "execution_count": null,
      "outputs": []
    },
    {
      "cell_type": "code",
      "metadata": {
        "id": "4XqYLSiZj5wJ",
        "colab_type": "code",
        "colab": {}
      },
      "source": [
        "def personal_extractor(bus):\n",
        "    \n",
        "    for i in [*personal] :\n",
        "        value = data(x + personal[i]).text\n",
        "        if value == '':\n",
        "            value = '----------'\n",
        "\n",
        "        details.append(value)\n",
        "\n",
        "    if bus :\n",
        "        value = data(x + 'tr[16]/td[3]').text\n",
        "    else :\n",
        "        value = '----------'\n",
        "    details.append(value)\n",
        "    print('personals Extracted successful...')\n"
      ],
      "execution_count": null,
      "outputs": []
    },
    {
      "cell_type": "code",
      "metadata": {
        "id": "pwHbjIr2UdCi",
        "colab_type": "code",
        "colab": {}
      },
      "source": [
        "def parent_extractor(bus):\n",
        "\n",
        "    for i in [*parent] :\n",
        "        value = data(x + parent[i][bus]).text\n",
        "        if value == '':\n",
        "            value = '----------'\n",
        "\n",
        "    \n",
        "        details.append(value)\n",
        "    print('Parental Extraction successfull....')\n"
      ],
      "execution_count": null,
      "outputs": []
    },
    {
      "cell_type": "code",
      "metadata": {
        "id": "nhtng6GikAvy",
        "colab_type": "code",
        "colab": {}
      },
      "source": [
        "def edu_details(bus):\n",
        "    if bus : temp = x + 'tr[18]/td/table/tbody/'\n",
        "    else : temp = x + 'tr[17]/td/table/tbody/'\n",
        "\n",
        "    for i in [*education] :\n",
        "        value = data(temp + education[i]).text\n",
        "        if value == '' : value = '----------'\n",
        "\n",
        "        details.append(value)\n",
        "    print('education details extracted successfully...')"
      ],
      "execution_count": null,
      "outputs": []
    },
    {
      "cell_type": "code",
      "metadata": {
        "id": "w0EVg6Q_UdTO",
        "colab_type": "code",
        "colab": {}
      },
      "source": [
        "def guardian_extractor(bus):\n",
        "    \n",
        "    for i in [*guardian] :\n",
        "        value = data(x + guardian[i][bus]).text\n",
        "        if value == '':\n",
        "            value = '----------'\n",
        "\n",
        "        details.append(value)\n"
      ],
      "execution_count": null,
      "outputs": []
    },
    {
      "cell_type": "code",
      "metadata": {
        "id": "cPlRx9aCUdZD",
        "colab_type": "code",
        "colab": {}
      },
      "source": [
        "def other_extractor(bus):\n",
        "\n",
        "    for i in [*other] :\n",
        "        value = data(x + other[i][bus]).text\n",
        "        if value == '':\n",
        "            value = '----------'\n",
        "\n",
        "        details.append(value)\n",
        "    \n",
        "    print('other details extracted....')\n"
      ],
      "execution_count": null,
      "outputs": []
    },
    {
      "cell_type": "code",
      "metadata": {
        "id": "VOmuJg3WOq-q",
        "colab_type": "code",
        "colab": {}
      },
      "source": [
        "#dfs = pd.read_excel(r'/content/drive/My Drive/Colab Notebooks/CSE_DOB.xlsx')\n",
        "dfs = pd.read_excel(r'/content/drive/My Drive/Colab Notebooks/test.xlsx')\n",
        "\n",
        "'''\n",
        "users  = dfs['rolls'][4:355]\n",
        "passwords = dfs['DOB(DDMMYYYY)'][4:355]\n",
        "'''\n",
        "users = dfs['rolls']\n",
        "passwords = dfs['DOB(DDMMYYYY)']\n",
        "\n",
        "columns = ['admission','rollNo','name','course','branch','gender','semester','dateOfBirth','nationality','religion','entrance_type','eamcet_rank','seatType','category',\n",
        "           'lastStudied','joiningDate','phoneNo', 'mobileNo',  'email',  'bankAcc',  'aadhar',  'rationCard',  'scholarship','Transport',  'sscBoard',  'sscHT',\n",
        "           'sscYOP',  'sscInst',  'sscMax',  'sscObt',  'sscGL','sscGP',  'interBoard',  'interHT',  'interYOP',  'interInst',  'interMax','interObt',  'interGL',\n",
        "           'interGP',  'fatherName',  'fatherOcc','motherName','motherOcc','fatherPhone','motherPhone','Inc','fatherMailId','motherMailId','corres_address',\n",
        "           'per_address','guardName','guardAddress','guardPhone','guardMobile','placeOB','typeOfPlace','sayingAt','stayingAddress','h_w_BMI','healthRecord',\n",
        "           'hobbies','sports']\n",
        "           \n",
        "dataframe = pd.DataFrame(columns = columns) "
      ],
      "execution_count": null,
      "outputs": []
    },
    {
      "cell_type": "code",
      "metadata": {
        "id": "bZadi9TceQyY",
        "colab_type": "code",
        "colab": {}
      },
      "source": [
        "def initializer(userid,passcode):\n",
        "\n",
        "    login_page(userid, passcode)\n",
        "    details_page()\n",
        "    bus = busChecker()\n",
        "    personal_extractor(bus)\n",
        "    parent_extractor(bus)\n",
        "    edu_details(bus)\n",
        "    guardian_extractor(bus)\n",
        "    other_extractor(bus)\n",
        "\n",
        "    print('extraction successfull...')\n",
        "    print(details,'\\n\\n\\n')\n",
        "    return details\n",
        "    \n"
      ],
      "execution_count": null,
      "outputs": []
    },
    {
      "cell_type": "code",
      "metadata": {
        "id": "uK6lwUx-rweA",
        "colab_type": "code",
        "colab": {}
      },
      "source": [
        "for (user,code) in zip(users, passwords):\n",
        "    details = []\n",
        "    print(user,code)\n",
        "    values = initializer(user,code)\n",
        "    a_series = pd.Series(values, index = dataframe.columns)\n",
        "    dataframe = dataframe.append(a_series, ignore_index=True)"
      ],
      "execution_count": null,
      "outputs": []
    },
    {
      "cell_type": "code",
      "metadata": {
        "id": "9gc-0emhvO9M",
        "colab_type": "code",
        "colab": {}
      },
      "source": [
        "dataframe"
      ],
      "execution_count": null,
      "outputs": []
    }
  ]
}