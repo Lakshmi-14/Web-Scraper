{
  "nbformat": 4,
  "nbformat_minor": 0,
  "metadata": {
    "colab": {
      "name": "scraper.ipynb",
      "provenance": [],
      "mount_file_id": "1AngWmP7vA6T4Ap2sNxzW7mG3EJsQE7TM",
      "authorship_tag": "ABX9TyPGgI44LerW69nU0VOS/l0e",
      "include_colab_link": true
    },
    "kernelspec": {
      "name": "python3",
      "display_name": "Python 3"
    }
  },
  "cells": [
    {
      "cell_type": "markdown",
      "metadata": {
        "id": "view-in-github",
        "colab_type": "text"
      },
      "source": [
        "<a href=\"https://colab.research.google.com/github/nampallylakshmiprasad/Web-Scraper/blob/rebuild/scraper.ipynb\" target=\"_parent\"><img src=\"https://colab.research.google.com/assets/colab-badge.svg\" alt=\"Open In Colab\"/></a>"
      ]
    },
    {
      "cell_type": "code",
      "metadata": {
        "id": "6OzlZGASlbFQ",
        "colab_type": "code",
        "colab": {
          "base_uri": "https://localhost:8080/",
          "height": 490
        },
        "outputId": "330af9d1-7758-4137-a3e8-0ff0262915f2"
      },
      "source": [
        "!pip install selenium\n",
        "!apt-get update # to update ubuntu to correctly run apt install\n",
        "!apt install chromium-chromedriver\n",
        "!cp /usr/lib/chromium-browser/chromedriver /usr/bin\n"
      ],
      "execution_count": 1,
      "outputs": [
        {
          "output_type": "stream",
          "text": [
            "Get:3 http://archive.ubuntu.com/ubuntu bionic-updates/universe amd64 chromium-browser-l10n all 85.0.4183.83-0ubuntu0.18.04.2 [3,431 kB]\n",
            "Get:4 http://archive.ubuntu.com/ubuntu bionic-updates/universe amd64 chromium-chromedriver amd64 85.0.4183.83-0ubuntu0.18.04.2 [4,412 kB]\n",
            "Fetched 79.2 MB in 9s (8,967 kB/s)\n",
            "Selecting previously unselected package chromium-codecs-ffmpeg-extra.\n",
            "(Reading database ... 144676 files and directories currently installed.)\n",
            "Preparing to unpack .../chromium-codecs-ffmpeg-extra_85.0.4183.83-0ubuntu0.18.04.2_amd64.deb ...\n",
            "Unpacking chromium-codecs-ffmpeg-extra (85.0.4183.83-0ubuntu0.18.04.2) ...\n",
            "Selecting previously unselected package chromium-browser.\n",
            "Preparing to unpack .../chromium-browser_85.0.4183.83-0ubuntu0.18.04.2_amd64.deb ...\n",
            "Unpacking chromium-browser (85.0.4183.83-0ubuntu0.18.04.2) ...\n",
            "Selecting previously unselected package chromium-browser-l10n.\n",
            "Preparing to unpack .../chromium-browser-l10n_85.0.4183.83-0ubuntu0.18.04.2_all.deb ...\n",
            "Unpacking chromium-browser-l10n (85.0.4183.83-0ubuntu0.18.04.2) ...\n",
            "Selecting previously unselected package chromium-chromedriver.\n",
            "Preparing to unpack .../chromium-chromedriver_85.0.4183.83-0ubuntu0.18.04.2_amd64.deb ...\n",
            "Unpacking chromium-chromedriver (85.0.4183.83-0ubuntu0.18.04.2) ...\n",
            "Setting up chromium-codecs-ffmpeg-extra (85.0.4183.83-0ubuntu0.18.04.2) ...\n",
            "Setting up chromium-browser (85.0.4183.83-0ubuntu0.18.04.2) ...\n",
            "update-alternatives: using /usr/bin/chromium-browser to provide /usr/bin/x-www-browser (x-www-browser) in auto mode\n",
            "update-alternatives: using /usr/bin/chromium-browser to provide /usr/bin/gnome-www-browser (gnome-www-browser) in auto mode\n",
            "Setting up chromium-chromedriver (85.0.4183.83-0ubuntu0.18.04.2) ...\n",
            "Setting up chromium-browser-l10n (85.0.4183.83-0ubuntu0.18.04.2) ...\n",
            "Processing triggers for hicolor-icon-theme (0.17-2) ...\n",
            "Processing triggers for mime-support (3.60ubuntu1) ...\n",
            "Processing triggers for man-db (2.8.3-2ubuntu0.1) ...\n",
            "cp: '/usr/lib/chromium-browser/chromedriver' and '/usr/bin/chromedriver' are the same file\n"
          ],
          "name": "stdout"
        }
      ]
    },
    {
      "cell_type": "code",
      "metadata": {
        "id": "Ms5RkkWnle88",
        "colab_type": "code",
        "colab": {}
      },
      "source": [
        "import sys\n",
        "from bs4 import BeautifulSoup as bs4\n",
        "sys.path.insert(0,'/usr/lib/chromium-browser/chromedriver')\n",
        "from selenium import webdriver\n"
      ],
      "execution_count": 2,
      "outputs": []
    },
    {
      "cell_type": "code",
      "metadata": {
        "id": "Keo9nD7CnCwI",
        "colab_type": "code",
        "colab": {}
      },
      "source": [
        "url = \"http://www.webprosindia.com/Gokaraju/Default.aspx\""
      ],
      "execution_count": 5,
      "outputs": []
    },
    {
      "cell_type": "code",
      "metadata": {
        "id": "4wI4LojDlhtd",
        "colab_type": "code",
        "colab": {
          "base_uri": "https://localhost:8080/",
          "height": 54
        },
        "outputId": "ac9ccea8-9771-4542-8c66-dc070d57592c"
      },
      "source": [
        "chrome_options = webdriver.ChromeOptions()\n",
        "chrome_options.add_argument('--headless')\n",
        "chrome_options.add_argument('--no-sandbox')\n",
        "chrome_options.add_argument('--disable-dev-shm-usage')\n",
        "driver = webdriver.Chrome('chromedriver',chrome_options=chrome_options)\n",
        "driver.get(url)"
      ],
      "execution_count": 11,
      "outputs": [
        {
          "output_type": "stream",
          "text": [
            "/usr/local/lib/python3.6/dist-packages/ipykernel_launcher.py:5: DeprecationWarning: use options instead of chrome_options\n",
            "  \"\"\"\n"
          ],
          "name": "stderr"
        }
      ]
    },
    {
      "cell_type": "code",
      "metadata": {
        "id": "JOyfwVP2qe0x",
        "colab_type": "code",
        "colab": {
          "base_uri": "https://localhost:8080/",
          "height": 1000
        },
        "outputId": "be657bd8-2d54-44e5-970d-49b794637fb0"
      },
      "source": [
        "driver.page_source"
      ],
      "execution_count": 15,
      "outputs": [
        {
          "output_type": "execute_result",
          "data": {
            "application/vnd.google.colaboratory.intrinsic+json": {
              "type": "string"
            },
            "text/plain": [
              "'<html xmlns=\"http://www.w3.org/1999/xhtml\"><head id=\"Head1\"><title>\\n\\tCollege Automation Package\\n</title>\\n\\n\\n    <style type=\"text/css\">\\n<!--\\n.input_loginBlue {\\n\\tFONT-SIZE: 10px;\\n\\tCOLOR: #0033CC;\\n\\tFONT-FAMILY: Verdana, Geneva, Arial, Helvetica, sans-serif;\\n\\tHEIGHT: 16px;\\n\\tborder: 1px solid #CCCCCC;\\n}\\n.style11 {font-family: Geneva, Arial, Helvetica, sans-serif; font-size: 11px; font-weight: bold; color: #4E7CC9; }\\n.style19 {\\n\\tfont-family: Geneva, Arial, Helvetica, sans-serif;\\n\\tfont-size: 11px;\\n\\tfont-weight: bold;\\n\\tcolor: #FC3A00;\\n}\\n#Table_01 tr td table tr td #Table_2 tr td table {\\n\\tcolor: #B41400;\\n}\\n.style21 {\\n\\tfont-family: Geneva, Arial, Helvetica, sans-serif;\\n\\tfont-size: 11px;\\n\\tfont-weight: bold;\\n\\tcolor: #B41400;\\n}\\n.style22 {color: #FFFFFF}\\n.newsBG\\n{\\n\\tbackground-image:url(CollegeImages/mainbg.jpg);\\n\\tbackground-repeat:repeat-x;\\n\\tcolor:White;\\n\\theight:26px; \\n}\\n-->\\n</style>\\n    <script language=\"javascript\" src=\"JSFiles/jquery-1.3.2.js\" type=\"text/javascript\"></script>\\n<script language=\"javascript\" type=\"text/javascript\">\\n    $(document).bind(\"contextmenu\", function () { return false; });\\nfunction _onEmpKeyPress()\\n{\\n    if(event.keyCode==13)\\n        $(\"#\"+ \"imgBtn1\").click();\\n}\\nfunction _onStudentKeyPress()\\n{\\n    if(event.keyCode==13)\\n        $(\"#\" +\"imgBtn2\").click();\\n}\\n\\n</script>\\n\\n</head>\\n<body bgcolor=\"#D1DCEB\" leftmargin=\"0\" topmargin=\"0\" marginwidth=\"0\" marginheight=\"0\" onkeypress=\"return event.keyCode != 13;\">\\n    <form name=\"form1\" method=\"post\" action=\"Default.aspx?ReturnUrl=%2fGokaraju%2fStudentMaster.aspx\" id=\"form1\">\\n<div>\\n<input type=\"hidden\" name=\"__VIEWSTATE\" id=\"__VIEWSTATE\" value=\"/wEPDwUKMTE1OTYyNDMwNQ9kFgICAw9kFgoCAQ8WAh4JaW5uZXJodG1sBVM8bWFycXVlZSBzY3JvbGxkZWxheT0nMTUwJyB0cnVlc3BlZWQ9J3RydWVzcGVlZCcgPldlbGNvbWUgdG8gR1JJRVQtRUNBUCwgPC9tYXJxdWVlPmQCAw8PFgIeBFRleHRlZGQCBQ8PFgIfAWVkZAIJDw9kFgIeCm9ua2V5cHJlc3MFEF9vbkVtcEtleVByZXNzKClkAg0PD2QWAh8CBRRfb25TdHVkZW50S2V5UHJlc3MoKWQYAQUeX19Db250cm9sc1JlcXVpcmVQb3N0QmFja0tleV9fFgIFB2ltZ0J0bjEFB2ltZ0J0bjKWN4NTS/b93C7IKjgdmnZmW0p9pw==\">\\n</div>\\n\\n<div>\\n\\n\\t<input type=\"hidden\" name=\"__VIEWSTATEGENERATOR\" id=\"__VIEWSTATEGENERATOR\" value=\"4E689B5F\">\\n\\t<input type=\"hidden\" name=\"__EVENTVALIDATION\" id=\"__EVENTVALIDATION\" value=\"/wEWBwLXtbnGCwKM+9rqDwLW44bXBAKM+87qDwKFqK2XBgKz5pu/BAKEovX+Autx6jCFonTJmc2pLzNDubv/b776\">\\n</div>\\n        <center>\\n        <div align=\"center\" style=\"width: 1200px; padding: 10px; background-color: #fff;\">\\n            <table id=\"Table_01\" width=\"1200\" border=\"0\" cellpadding=\"0\" cellspacing=\"0\">\\n                \\n                <tbody><tr>\\n                    <td>\\n                        <img src=\"collegeimages/title_head.jpg\" alt=\"\"></td>\\n                </tr>\\n                <tr>\\n                    <td>\\n                        <img src=\"collegeimages/body.jpg\" alt=\"\"></td>\\n                </tr>\\n                <tr>\\n                 \\n                     <td background=\"CollegeImages/line.gif\" class=\"newsBG\">\\n                        <div id=\"divNews\" style=\"color:Blue\"><marquee scrolldelay=\"150\" truespeed=\"truespeed\">Welcome to GRIET-ECAP, </marquee></div>\\n                    </td>\\n                </tr>\\n                <tr>\\n                    <td height=\"350\" bordercolor=\"#F9FFE1\" bgcolor=\"#F5F5F5\" align=\"center\">\\n                        <p>\\n                            &nbsp;</p>\\n                        <table id=\"Table2\" style=\"background-color: White\" width=\"493\" height=\"256\" border=\"0\" cellpadding=\"0\" cellspacing=\"0\">\\n                            <tbody><tr>\\n                                <td>\\n                                    &nbsp;</td>\\n                                <td colspan=\"2\">\\n                                    <span id=\"lblError\" class=\"style24\"></span></td>\\n                                <td>\\n                                    &nbsp;</td>\\n                                <td rowspan=\"5\">\\n                                    <img src=\"collegeimages/login_05.gif\" width=\"18\" height=\"256\" alt=\"\"></td>\\n                                <td>\\n                                    &nbsp;</td>\\n                                <td colspan=\"2\">\\n                                    <span id=\"lblError1\" class=\"style24\"></span></td>\\n                                <td>\\n                                    &nbsp;</td>\\n                            </tr>\\n                            <tr>\\n                                <td>\\n                                    <img src=\"collegeimages/login_01.gif\" width=\"27\" height=\"83\" alt=\"\"></td>\\n                                <td>\\n                                    <img src=\"collegeimages/login_02.gif\" width=\"117\" height=\"83\" alt=\"\"></td>\\n                                <td>\\n                                    <img src=\"collegeimages/login_03.gif\" width=\"66\" height=\"83\" alt=\"\"></td>\\n                                <td>\\n                                    <img src=\"collegeimages/login_04.gif\" width=\"24\" height=\"83\" alt=\"\"></td>\\n                                <td>\\n                                    <img src=\"collegeimages/login_06.gif\" width=\"36\" height=\"83\" alt=\"\"></td>\\n                                <td>\\n                                    <img src=\"collegeimages/login_07.gif\" width=\"117\" height=\"83\" alt=\"\"></td>\\n                                <td>\\n                                    <img src=\"collegeimages/login_08.gif\" width=\"67\" height=\"83\" alt=\"\"></td>\\n                                <td>\\n                                    <img src=\"collegeimages/login_09.gif\" width=\"21\" height=\"83\" alt=\"\"></td>\\n                            </tr>\\n                            <tr>\\n                                <td style=\"background-image: url(collegeimages/login_10.gif); background-repeat: no-repeat;\">\\n                                    &nbsp;</td>\\n                                <td colspan=\"2\" style=\"background-image: url(collegeimages/login_11.gif); background-repeat: no-repeat;\">\\n                                    <table width=\"100%\" border=\"0\" cellspacing=\"1\" cellpadding=\"1\">\\n                                        <tbody><tr>\\n                                            <td width=\"5%\">\\n                                                &nbsp;</td>\\n                                            <td width=\"41%\" style=\"white-space: nowrap\">\\n                                                <span class=\"style19\">User Name</span></td>\\n                                            <td class=\"style11\" width=\"1%\">\\n                                                :</td>\\n                                            <td>\\n                                                <input name=\"txtId1\" type=\"text\" id=\"txtId1\" class=\"input_loginBlue\" style=\"width:90px;\">\\n                                            </td>\\n                                            <td width=\"3%\">\\n                                                &nbsp;</td>\\n                                        </tr>\\n                                        <tr>\\n                                            <td>\\n                                                &nbsp;</td>\\n                                            <td style=\"white-space: nowrap\">\\n                                                <span class=\"style19\">Password</span></td>\\n                                            <td class=\"style11\">\\n                                                :</td>\\n                                            <td>\\n                                                <input name=\"txtPwd1\" type=\"password\" id=\"txtPwd1\" class=\"input_loginBlue\" onkeypress=\"_onEmpKeyPress()\" style=\"width:90px;\">\\n                                            </td>\\n                                            <td>\\n                                                &nbsp;</td>\\n                                        </tr>\\n                                    </tbody></table>\\n                                </td>\\n                                <td style=\"background-image: url(collegeimages/login_13.gif); background-repeat: no-repeat;\">\\n                                    &nbsp;</td>\\n                                <td style=\"background-image: url(collegeimages/login_14.gif); background-repeat: no-repeat;\">\\n                                    &nbsp;</td>\\n                                <td colspan=\"2\" style=\"background-image: url(collegeimages/login_15.gif); background-repeat: no-repeat;\">\\n                                    <table width=\"100%\" border=\"0\" cellspacing=\"1\" cellpadding=\"1\">\\n                                        <tbody><tr>\\n                                            <td width=\"6%\">\\n                                                &nbsp;</td>\\n                                            <td width=\"43%\" style=\"white-space: nowrap\" class=\"style19\">\\n                                                <span class=\"style21\">User Name</span></td>\\n                                            <td class=\"style11\" width=\"1%\">\\n                                                :</td>\\n                                            <td width=\"48%\">\\n                                                <input name=\"txtId2\" type=\"text\" id=\"txtId2\" tabindex=\"3\" class=\"input_loginBlue\" style=\"width:90px;\">\\n                                            </td>\\n                                            <td width=\"3%\">\\n                                                &nbsp;</td>\\n                                        </tr>\\n                                        <tr>\\n                                            <td>\\n                                                &nbsp;</td>\\n                                            <td class=\"style19\" style=\"white-space: nowrap\">\\n                                                <span class=\"style21\">Password:</span></td>\\n                                            <td class=\"style11\">\\n                                                :</td>\\n                                            <td>\\n                                                <input name=\"txtPwd2\" type=\"password\" id=\"txtPwd2\" tabindex=\"4\" class=\"input_loginBlue\" onkeypress=\"_onStudentKeyPress()\" style=\"width:90px;\">\\n                                            </td>\\n                                            <td>\\n                                                &nbsp;</td>\\n                                        </tr>\\n                                    </tbody></table>\\n                                </td>\\n                                <td style=\"background-image: url(collegeimages/login_17.gif); background-repeat: no-repeat;\\n                                    height: 82px;\">\\n                                    &nbsp;</td>\\n                            </tr>\\n                            <tr>\\n                                <td>\\n                                    <img src=\"collegeimages/login_18.gif\" width=\"27\" height=\"29\" alt=\"\"></td>\\n                                <td>\\n                                    <img src=\"collegeimages/login_19.gif\" width=\"117\" height=\"29\" alt=\"\"></td>\\n                                <td>\\n                                    <input type=\"image\" name=\"imgBtn1\" id=\"imgBtn1\" src=\"collegeimages/login_20.gif\" style=\"border-width:0px;\"></td>\\n                                <td>\\n                                    <img src=\"collegeimages/login_21.gif\" width=\"24\" height=\"29\" alt=\"\"></td>\\n                                <td>\\n                                    <img src=\"collegeimages/login_22.gif\" width=\"36\" height=\"29\" alt=\"\"></td>\\n                                <td>\\n                                    <img src=\"collegeimages/login_23.gif\" width=\"117\" height=\"29\" alt=\"\"></td>\\n                                <td>\\n                                    <input type=\"image\" name=\"imgBtn2\" id=\"imgBtn2\" tabindex=\"4\" src=\"CollegeImages/login_24.gif\" style=\"border-width:0px;\"></td>\\n                                <td>\\n                                    <img src=\"collegeimages/login_25.gif\" width=\"21\" height=\"29\" alt=\"\"></td>\\n                            </tr>\\n                            <tr>\\n                                <td>\\n                                    <img src=\"collegeimages/login_26.gif\" width=\"27\" height=\"62\" alt=\"\"></td>\\n                                <td>\\n                                    <img src=\"collegeimages/login_27.gif\" width=\"117\" height=\"62\" alt=\"\"></td>\\n                                <td>\\n                                    <img src=\"collegeimages/login_28.gif\" width=\"66\" height=\"62\" alt=\"\"></td>\\n                                <td>\\n                                    <img src=\"collegeimages/login_29.gif\" width=\"24\" height=\"62\" alt=\"\"></td>\\n                                <td>\\n                                    <img src=\"collegeimages/login_30.gif\" width=\"36\" height=\"62\" alt=\"\"></td>\\n                                <td>\\n                                    <img src=\"collegeimages/login_31.gif\" width=\"117\" height=\"62\" alt=\"\"></td>\\n                                <td>\\n                                    <img src=\"collegeimages/login_32.gif\" width=\"67\" height=\"62\" alt=\"\"></td>\\n                                <td>\\n                                    <img src=\"collegeimages/login_33.gif\" width=\"21\" height=\"62\" alt=\"\"></td>\\n                            </tr>\\n                        </tbody></table>\\n                        <p>\\n                            &nbsp;</p>\\n                        <p>\\n                            &nbsp;</p>\\n                    </td>\\n                </tr>\\n\\n                <tr>\\n                    <td>\\n                        <img src=\"collegeimages/bott_bg.gif\" width=\"1200\" alt=\"\"></td>\\n                </tr>\\n            </tbody></table>\\n        </div>\\n            </center>\\n    </form>\\n\\n\\n</body></html>'"
            ]
          },
          "metadata": {
            "tags": []
          },
          "execution_count": 15
        }
      ]
    },
    {
      "cell_type": "code",
      "metadata": {
        "id": "KuvBj6aJpsDH",
        "colab_type": "code",
        "colab": {}
      },
      "source": [
        "userid = '18241A05A0'\n",
        "passcode = 14072001"
      ],
      "execution_count": 16,
      "outputs": []
    },
    {
      "cell_type": "code",
      "metadata": {
        "id": "f8MKORtvmqPA",
        "colab_type": "code",
        "colab": {}
      },
      "source": [
        "txtId2 = driver.find_element_by_xpath(\"//*[@id='txtId2']\")\n",
        "txtPwd = driver.find_element_by_name(\"txtPwd2\")\n",
        "\n",
        "txtId2.send_keys(userid)\n",
        "txtPwd.send_keys(passcode)\n",
        "driver.find_element_by_xpath(\"//*[@id='imgBtn2']\").click()\n"
      ],
      "execution_count": 17,
      "outputs": []
    },
    {
      "cell_type": "code",
      "metadata": {
        "id": "Hm6TuAIOqlvT",
        "colab_type": "code",
        "colab": {
          "base_uri": "https://localhost:8080/",
          "height": 1000
        },
        "outputId": "ac24caae-4258-4170-e1bb-0d0f685ab7c5"
      },
      "source": [
        "driver.page_source"
      ],
      "execution_count": 18,
      "outputs": [
        {
          "output_type": "execute_result",
          "data": {
            "application/vnd.google.colaboratory.intrinsic+json": {
              "type": "string"
            },
            "text/plain": [
              "'<html xmlns=\"http://www.w3.org/1999/xhtml\"><head><link href=\"Styles/style.css\" rel=\"stylesheet\" type=\"text/css\"><link href=\"Styles/CssCAP.css\" rel=\"Stylesheet\" type=\"text/css\">\\n    <script language=\"javascript\" src=\"JSFiles/jquery-1.3.2.js\" type=\"text/javascript\"></script>\\n<script language=\"javascript\" type=\"text/javascript\">\\n    $(document).ready(function() {\\n        try {\\n            var response = StudentMaster.GetPhotoPath();\\n            if (response.error == null && response.value != \\'\\') {\\n                var _imgleft = $(\"#imgHead\").position().left;\\n                var _left = ($(\"#imgHead\").attr(\"width\") + _imgleft) - 100;\\n                var _top = $(\"#imgHead\").position().top; // +85;\\n                $(\"#imgstudent\").attr(\"src\", response.value);\\n                $(\"#divimg\").css({\\n                    \"position\": \"absolute\",\\n                    \"left\": _left,\\n                    \"top\": _top\\n                });\\n                $(\"#imgHead\").css(\"z-index\", -1);\\n                $(\"#imgstudent\").css(\"z-index\", 999);\\n            }\\n            var response = StudentMaster.FillScreens();\\n            if (response.error == null) {\\n                $(\"#divscreens\").html(response.value);\\n                if ($(\"#tblscreens\").attr(\"name\") == \"Y\") {\\n                    $(\"#capIframeId\").attr(\"src\", \"Academics/StudentProfile.aspx?scrid=17\");\\n                }\\n                else\\n                    $(\"#capIframeId\").attr(\"src\", $(\"#tblscreens tr:eq(0)\").attr(\"name\"));\\n            }\\n            ResizeIFrame();\\n        }\\n        catch (e) {\\n            alert(e.error);\\n        }\\n    });\\nfunction ResizeIFrame()\\n{\\n    var sourceHeight = document.body.scrollHeight+50;\\n    //document.parentWindow.frames[0].height=sourceHeight;\\n    $(\"#capIframeId\", parent.document).css(\"height\", sourceHeight);\\n}\\nfunction closeDiv()\\n{\\n    hideDialg(\"divGreetings\", true);\\n}\\n    </script>\\n\\n    <style type=\"text/css\">\\n\\n</style>\\n    <title>\\n\\n</title></head>\\n<body style=\"margin: 0;\" class=\"bodyStyle\">\\n    <form name=\"form1\" method=\"post\" action=\"StudentMaster.aspx\" id=\"form1\">\\n<div>\\n<input type=\"hidden\" name=\"__EVENTTARGET\" id=\"__EVENTTARGET\" value=\"\">\\n<input type=\"hidden\" name=\"__EVENTARGUMENT\" id=\"__EVENTARGUMENT\" value=\"\">\\n<input type=\"hidden\" name=\"__VIEWSTATE\" id=\"__VIEWSTATE\" value=\"/wEPDwULLTE5NzQyMjgyMjYPZBYCAgMPZBYEAgEPFgIeCWlubmVyaHRtbAVTPG1hcnF1ZWUgc2Nyb2xsZGVsYXk9JzE1MCcgdHJ1ZXNwZWVkPSd0cnVlc3BlZWQnID5XZWxjb21lIHRvIEdSSUVULUVDQVAsIDwvbWFycXVlZT5kAgMPDxYCHgRUZXh0BRxIaS4uLk5BTVBBTExZIExBS1NITUkgUFJBU0FEZGRk5PUDz+nBV1ycbDnOY2bVxnTY+84=\">\\n</div>\\n\\n<script type=\"text/javascript\">\\n//<![CDATA[\\nvar theForm = document.forms[\\'form1\\'];\\nif (!theForm) {\\n    theForm = document.form1;\\n}\\nfunction __doPostBack(eventTarget, eventArgument) {\\n    if (!theForm.onsubmit || (theForm.onsubmit() != false)) {\\n        theForm.__EVENTTARGET.value = eventTarget;\\n        theForm.__EVENTARGUMENT.value = eventArgument;\\n        theForm.submit();\\n    }\\n}\\n//]]>\\n</script>\\n\\n\\n<script type=\"text/javascript\" src=\"/Gokaraju/ajax/common.ashx\"></script><script type=\"text/javascript\" src=\"/Gokaraju/ajax/StudentMaster,App_Web_studentmaster.aspx.cdcab7d2.ashx\"></script>\\n<div>\\n\\n\\t<input type=\"hidden\" name=\"__VIEWSTATEGENERATOR\" id=\"__VIEWSTATEGENERATOR\" value=\"6A850EA4\">\\n\\t<input type=\"hidden\" name=\"__EVENTVALIDATION\" id=\"__EVENTVALIDATION\" value=\"/wEWAgKykdzZCAKQ8eCaBoMdQPhBo/Sm9rwQCUE3yhfwugmW\">\\n</div>\\n        <div>\\n            <center>\\n                <table id=\"Table_01\" border=\"0\" cellpadding=\"0\" cellspacing=\"0\" width=\"1200\">\\n                    <tbody><tr>\\n                        <td>\\n                            <img src=\"CollegeImages/title_head.jpg\" alt=\"\" id=\"imgHead\" style=\"z-index: -1;\"></td>\\n                    </tr>\\n                    <tr>\\n                        <td class=\"newsBG\">\\n                            <div id=\"divNews\"><marquee scrolldelay=\"150\" truespeed=\"truespeed\">Welcome to GRIET-ECAP, </marquee></div>\\n                        </td>\\n                    </tr>\\n                    <tr><td>&nbsp;</td></tr>\\n                    <tr class=\"userData\">\\n                        <td valign=\"top\">\\n                            <table width=\"100%\">\\n                                <tbody><tr>\\n                                    <td align=\"left\" style=\"width: 50%\">\\n                                        <span id=\"lblUser\">Hi...NAMPALLY LAKSHMI PRASAD</span></td>\\n                                    <td style=\"width: 30%\">\\n                                        <a href=\"Admin/changepassword.aspx?ctype=S\" target=\"capIframe\" class=\"welcomeLink\">Change\\n                                            Password</a></td>\\n                                    <td align=\"right\">\\n                                        <a id=\"lnkLogOut\" class=\"welcomeLink\" href=\"javascript:__doPostBack(\\'lnkLogOut\\',\\'\\')\">Logout</a>\\n                                    </td>\\n                                </tr>\\n                            </tbody></table>\\n                        </td>\\n                    </tr>\\n                    <tr><td>&nbsp;</td></tr>\\n                    <tr>\\n                        <td>\\n                            <table width=\"100%\" cellspacing=\"0\" cellpadding=\"0\">\\n                                <tbody><tr>\\n                                    <td style=\"width: 178px;padding-left:4px;\" class=\"linksBG\" align=\"left\" valign=\"top\">\\n                                        <div id=\"divscreens\"><table width=\"100%\" cellspacing=\"0\" cellpadding=\"3\" class=\"iframeBorder\" name=\"Y\" id=\"tblscreens\"><tbody><tr name=\"\"></tr><tr><td colspan=\"2\" class=\"LeftMenuHead\" align=\"center\" style=\"height:25px\">MENU</td></tr><tr onmouseover=\"this.className=\\'navbar\\'\" onmouseout=\"this.className=\\'menuLink\\'\"><td class=\"menuArrow\"></td><td><div style=\"padding:3px;\"><a class=\"menuLink\" href=\"Academics/studentacadamicregister.aspx?scrid=2\" target=\"capIframe\">ACADAMIC REGISTER</a></div></td></tr><tr><td colspan=\"2\" class=\"bgLine\"></td></tr><tr onmouseover=\"this.className=\\'navbar\\'\" onmouseout=\"this.className=\\'menuLink\\'\"><td class=\"menuArrow\"></td><td><div style=\"padding:3px;\"><a class=\"menuLink\" href=\"Academics/AcademicCalenderReport.aspx?scrid=1\" target=\"capIframe\">ACADEMIC CALENDER</a></div></td></tr><tr><td colspan=\"2\" class=\"bgLine\"></td></tr><tr onmouseover=\"this.className=\\'navbar\\'\" onmouseout=\"this.className=\\'menuLink\\'\"><td class=\"menuArrow\"></td><td><div style=\"padding:3px;\"><a class=\"menuLink\" href=\"Academics/StudentAssignmentsReport.aspx?scrid=21\" target=\"capIframe\">ASSIGNMENTS REPORT</a></div></td></tr><tr><td colspan=\"2\" class=\"bgLine\"></td></tr><tr onmouseover=\"this.className=\\'navbar\\'\" onmouseout=\"this.className=\\'menuLink\\'\"><td class=\"menuArrow\"></td><td><div style=\"padding:3px;\"><a class=\"menuLink\" href=\"Academics/StudentAttendance.aspx?scrid=3&amp;showtype=SA\" target=\"capIframe\">ATTENDANCE</a></div></td></tr><tr><td colspan=\"2\" class=\"bgLine\"></td></tr><tr onmouseover=\"this.className=\\'navbar\\'\" onmouseout=\"this.className=\\'menuLink\\'\"><td class=\"menuArrow\"></td><td><div style=\"padding:3px;\"><a class=\"menuLink\" href=\"Academics/studentbacklogs.aspx?scrid=4\" target=\"capIframe\">BACKLOGS</a></div></td></tr><tr><td colspan=\"2\" class=\"bgLine\"></td></tr><tr onmouseover=\"this.className=\\'navbar\\'\" onmouseout=\"this.className=\\'menuLink\\'\"><td class=\"menuArrow\"></td><td><div style=\"padding:3px;\"><a class=\"menuLink\" href=\"Library/BookSearch1.aspx?scrid=5\" target=\"capIframe\">BOOK SEARCH</a></div></td></tr><tr><td colspan=\"2\" class=\"bgLine\"></td></tr><tr onmouseover=\"this.className=\\'navbar\\'\" onmouseout=\"this.className=\\'menuLink\\'\"><td class=\"menuArrow\"></td><td><div style=\"padding:3px;\"><a class=\"menuLink\" href=\"Academics/StudentAssignments.aspx?scrid=20\" target=\"capIframe\">CLASS ASSIGNMENTS</a></div></td></tr><tr><td colspan=\"2\" class=\"bgLine\"></td></tr><tr onmouseover=\"this.className=\\'navbar\\'\" onmouseout=\"this.className=\\'menuLink\\'\"><td class=\"menuArrow\"></td><td><div style=\"padding:3px;\"><a class=\"menuLink\" href=\"Correspondence/suggestions.aspx?scrid=8\" target=\"capIframe\">COMPLAINT/SUGGESTION</a></div></td></tr><tr><td colspan=\"2\" class=\"bgLine\"></td></tr><tr onmouseover=\"this.className=\\'navbar\\'\" onmouseout=\"this.className=\\'menuLink\\'\"><td class=\"menuArrow\"></td><td><div style=\"padding:3px;\"><a class=\"menuLink\" href=\"Examinations/examschedulebyrollno.aspx?scrid=9\" target=\"capIframe\">EXAM-SCHEDULE</a></div></td></tr><tr><td colspan=\"2\" class=\"bgLine\"></td></tr><tr onmouseover=\"this.className=\\'navbar\\'\" onmouseout=\"this.className=\\'menuLink\\'\"><td class=\"menuArrow\"></td><td><div style=\"padding:3px;\"><a class=\"menuLink\" href=\"FeePayments/studentpayments.aspx?scrid=11\" target=\"capIframe\">FEE DETAILS</a></div></td></tr><tr><td colspan=\"2\" class=\"bgLine\"></td></tr><tr onmouseover=\"this.className=\\'navbar\\'\" onmouseout=\"this.className=\\'menuLink\\'\"><td class=\"menuArrow\"></td><td><div style=\"padding:3px;\"><a class=\"menuLink\" href=\"Academics/stdfeedback.aspx?scrid=10\" target=\"capIframe\">FEEDBACK</a></div></td></tr><tr><td colspan=\"2\" class=\"bgLine\"></td></tr><tr onmouseover=\"this.className=\\'navbar\\'\" onmouseout=\"this.className=\\'menuLink\\'\"><td class=\"menuArrow\"></td><td><div style=\"padding:3px;\"><a class=\"menuLink\" href=\"academics/lpreport.aspx?scrid=22&amp;rtype=S\" target=\"capIframe\">LESSON PLAN</a></div></td></tr><tr><td colspan=\"2\" class=\"bgLine\"></td></tr><tr onmouseover=\"this.className=\\'navbar\\'\" onmouseout=\"this.className=\\'menuLink\\'\"><td class=\"menuArrow\"></td><td><div style=\"padding:3px;\"><a class=\"menuLink\" href=\"Library/studentsbooks.aspx?scrid=14\" target=\"capIframe\">LIBRARY BOOKS</a></div></td></tr><tr><td colspan=\"2\" class=\"bgLine\"></td></tr><tr onmouseover=\"this.className=\\'navbar\\'\" onmouseout=\"this.className=\\'menuLink\\'\"><td class=\"menuArrow\"></td><td><div style=\"padding:3px;\"><a class=\"menuLink\" href=\"Academics/StudentMarksReport.aspx?scrid=15\" target=\"capIframe\">MARKS</a></div></td></tr><tr><td colspan=\"2\" class=\"bgLine\"></td></tr><tr onmouseover=\"this.className=\\'navbar\\'\" onmouseout=\"this.className=\\'menuLink\\'\"><td class=\"menuArrow\"></td><td><div style=\"padding:3px;\"><a class=\"menuLink\" href=\"Academics/StudentProfile.aspx?scrid=17\" target=\"capIframe\">PROFILE</a></div></td></tr><tr><td colspan=\"2\" class=\"bgLine\"></td></tr><tr onmouseover=\"this.className=\\'navbar\\'\" onmouseout=\"this.className=\\'menuLink\\'\"><td class=\"menuArrow\"></td><td><div style=\"padding:3px;\"><a class=\"menuLink\" href=\"Academics/projectsearch.aspx?scrid=16\" target=\"capIframe\">PROJECT SEARCH</a></div></td></tr><tr><td colspan=\"2\" class=\"bgLine\"></td></tr><tr onmouseover=\"this.className=\\'navbar\\'\" onmouseout=\"this.className=\\'menuLink\\'\"><td class=\"menuArrow\"></td><td><div style=\"padding:3px;\"><a class=\"menuLink\" href=\"Academics/downloadresources.aspx?scrid=13\" target=\"capIframe\">RESOURCES</a></div></td></tr><tr><td colspan=\"2\" class=\"bgLine\"></td></tr><tr onmouseover=\"this.className=\\'navbar\\'\" onmouseout=\"this.className=\\'menuLink\\'\"><td class=\"menuArrow\"></td><td><div style=\"padding:3px;\"><a class=\"menuLink\" href=\"Academics/TimeTableReport.aspx?scrid=18\" target=\"capIframe\">TIME TABLE</a></div></td></tr><tr><td colspan=\"2\" class=\"bgLine\"></td></tr><tr onmouseover=\"this.className=\\'navbar\\'\" onmouseout=\"this.className=\\'menuLink\\'\"><td class=\"menuArrow\"></td><td><div style=\"padding:3px;\"><a class=\"menuLink\" href=\"Academics/rpttopicscovered.aspx?scrid=19\" target=\"capIframe\">TOPICS COVERED</a></div></td></tr><tr><td colspan=\"2\" class=\"bgLine\"></td></tr></tbody></table></div>\\n                                       \\n                                    </td>\\n                                    <td style=\"width:5px\">&nbsp;</td>\\n                                    <td valign=\"top\" class=\"iframeBorder\">\\n                                        <table width=\"100%\" cellspacing=\"0\">\\n                                            <tbody><tr>\\n                                                <td>\\n                                                    <iframe id=\"capIframeId\" allowtransparency=\"true\" name=\"capIframe\" width=\"100%\" onload=\"ResizeIFrame()\" scrolling=\"no\" frameborder=\"0\" class=\"bodyStyle\" src=\"Academics/StudentProfile.aspx?scrid=17\" style=\"height: 1380px;\"></iframe>\\n                                                </td>\\n                                            </tr>\\n                                        </tbody></table>\\n                                    </td>\\n                                   \\n                                </tr>\\n                            </tbody></table>\\n                        </td>\\n                    </tr>\\n                </tbody></table>\\n            </center>\\n            <div id=\"divGreetings\" style=\"background-color: White; border-width: 1px; border-color: Gray;\\n                border-style: solid; z-index: 1px; position: absolute; width: 600px; height: 490px;\\n                left: 236px; top: 27px; display: none\">\\n            </div>\\n        </div>\\n        <div id=\"divimg\" style=\"position: absolute; left: 1000px; top: 0px;\">\\n                <img id=\"imgstudent\" alt=\"\" src=\"http://www.webprosindia.com/Gokaraju/images/imgna.gif\" width=\"105px\" height=\"105px\" style=\"z-index: 999;\">\\n            </div>\\n    </form>\\n\\n\\n</body></html>'"
            ]
          },
          "metadata": {
            "tags": []
          },
          "execution_count": 18
        }
      ]
    },
    {
      "cell_type": "code",
      "metadata": {
        "id": "mfnFENlYqCiF",
        "colab_type": "code",
        "colab": {}
      },
      "source": [
        ""
      ],
      "execution_count": null,
      "outputs": []
    }
  ]
}